{
  "nbformat": 4,
  "nbformat_minor": 0,
  "metadata": {
    "colab": {
      "provenance": [],
      "gpuType": "T4",
      "authorship_tag": "ABX9TyMP7+OGDAgnXyMTKfdUXdz+",
      "include_colab_link": true
    },
    "kernelspec": {
      "name": "python3",
      "display_name": "Python 3"
    },
    "language_info": {
      "name": "python"
    },
    "accelerator": "GPU"
  },
  "cells": [
    {
      "cell_type": "markdown",
      "metadata": {
        "id": "view-in-github",
        "colab_type": "text"
      },
      "source": [
        "<a href=\"https://colab.research.google.com/github/2alstj/2alstj.github.io/blob/main/Softmax_Regressin.ipynb\" target=\"_parent\"><img src=\"https://colab.research.google.com/assets/colab-badge.svg\" alt=\"Open In Colab\"/></a>"
      ]
    },
    {
      "cell_type": "markdown",
      "source": [
        "# 1. 라이브러리 선언"
      ],
      "metadata": {
        "id": "dqhAAc0k-vM_"
      }
    },
    {
      "cell_type": "code",
      "source": [
        "import torch                                  #Pytorch main module\n",
        "import torchvision.datasets as dsets          #Open dataset loading\n",
        "import torchvision.transforms as transforms   #Transform Image to Tensor\n",
        "from torch.utils.data import DataLoader       #Loading Dataset by minibatch\n",
        "import torch.nn as nn                         #Linear layer\n",
        "import matplotlib.pyplot as plt               #python plot library\n",
        "import random\n"
      ],
      "metadata": {
        "id": "QruZ3ObX-2Ns"
      },
      "execution_count": null,
      "outputs": []
    },
    {
      "cell_type": "markdown",
      "source": [
        "# 2. CUDA 설정\n",
        "##CUDA란?\n",
        "- nvidia에서 만든 gpu를 위한 병렬 연산 플렛폼이자 프로그래밍 도구이다.\n",
        "- `torch.cuda.is_available()`은 GPU사용 가능 여부를 반환\n",
        "- `torch.device()`는 텐서/모델이 올라갈 장치를 결정(cpu or gpu)\n",
        "\n",
        "딥러닝에서는 GPU를 사용하는 것이 속도면에서 매우 유리하며, PyTorch는 `.to(\"cuda\")` 또는 `.to(\"cpu\")`로 쉽게 전환이 가능하다."
      ],
      "metadata": {
        "id": "VcfAVOSs_zvZ"
      }
    },
    {
      "cell_type": "code",
      "source": [
        "USE_CUDA = torch.cuda.is_available()\n",
        "device = torch.device(\"cuda\" if USE_CUDA else \"cpu\")\n",
        "print(\"device : \", device)"
      ],
      "metadata": {
        "colab": {
          "base_uri": "https://localhost:8080/"
        },
        "id": "F0tolKgEAPzH",
        "outputId": "f38424cd-255c-4ee8-838f-f7cae48e2f95"
      },
      "execution_count": null,
      "outputs": [
        {
          "output_type": "stream",
          "name": "stdout",
          "text": [
            "device :  cuda\n"
          ]
        }
      ]
    },
    {
      "cell_type": "markdown",
      "source": [
        "# 3. 재현성(시드 고정)\n",
        "- 실험 결과가 매번 달라지지 않게 하기 위한 시드 고정 코드"
      ],
      "metadata": {
        "id": "pKfIwdPeBNRn"
      }
    },
    {
      "cell_type": "code",
      "source": [
        "random.seed(777)\n",
        "torch.manual_seed(777)\n",
        "if device == 'cuda':\n",
        "  torch.cuda.manual_seed(777)"
      ],
      "metadata": {
        "id": "at9zj_mKBZ8z"
      },
      "execution_count": null,
      "outputs": []
    },
    {
      "cell_type": "markdown",
      "source": [
        "# 4. 하이퍼파라미터 정의\n",
        "- `epochs` : 전체 데이터셋 반복 학습 횟수\n",
        "- `batch_size` : 한번에 학습할 데이터 수"
      ],
      "metadata": {
        "id": "EwwoarqqBkmo"
      }
    },
    {
      "cell_type": "code",
      "source": [
        "training_epochs = 15\n",
        "batch_size = 100"
      ],
      "metadata": {
        "id": "2z9hXb-FBvoz"
      },
      "execution_count": null,
      "outputs": []
    },
    {
      "cell_type": "markdown",
      "source": [
        "# 5. MNIST 데이터 셋 로딩\n",
        "- MNIST 데이터 셋 다운로드"
      ],
      "metadata": {
        "id": "Tb4FHuCKB1_W"
      }
    },
    {
      "cell_type": "code",
      "source": [
        "mnist_train = dsets.MNIST(root = 'MNIST_data',\n",
        "                          train = True,\n",
        "                          transform = transforms.ToTensor(),\n",
        "                          download=True)\n",
        "mnist_test = dsets.MNIST(root = 'MNIST_data',\n",
        "                         train = False,\n",
        "                         transform = transforms.ToTensor(),\n",
        "                         download=True)"
      ],
      "metadata": {
        "colab": {
          "base_uri": "https://localhost:8080/"
        },
        "id": "DDv6LPoxCD1a",
        "outputId": "a5e683ff-7c2b-4081-f30d-1db6da116f33"
      },
      "execution_count": null,
      "outputs": [
        {
          "output_type": "stream",
          "name": "stderr",
          "text": [
            "100%|██████████| 9.91M/9.91M [00:00<00:00, 18.6MB/s]\n",
            "100%|██████████| 28.9k/28.9k [00:00<00:00, 491kB/s]\n",
            "100%|██████████| 1.65M/1.65M [00:00<00:00, 4.64MB/s]\n",
            "100%|██████████| 4.54k/4.54k [00:00<00:00, 6.06MB/s]\n"
          ]
        }
      ]
    },
    {
      "cell_type": "markdown",
      "source": [
        "# 6. DataLoader 생성\n",
        "- 배치 단위로 데이터를 불러옴,\n",
        "- `drop_last=True` : 남는 샘플을 버려서 배치들의 크기를 일정하게 유지"
      ],
      "metadata": {
        "id": "eMuZKDiuChkA"
      }
    },
    {
      "cell_type": "code",
      "source": [
        "data_loader = DataLoader(dataset=mnist_train,\n",
        "                         batch_size=batch_size,\n",
        "                         shuffle=True,\n",
        "                         drop_last=True)"
      ],
      "metadata": {
        "id": "0ECbtc01CwxQ"
      },
      "execution_count": null,
      "outputs": []
    },
    {
      "cell_type": "markdown",
      "source": [
        "# 7. 모델 정의\n",
        "- 입력 : 28 * 28 = 784\n",
        "- 출력 : 0 ~ 9 -> 10"
      ],
      "metadata": {
        "id": "-pmKGB86DDBi"
      }
    },
    {
      "cell_type": "code",
      "source": [
        "linear = nn.Linear(784, 10, bias=True).to('cuda')"
      ],
      "metadata": {
        "id": "Cl9tusI8DFEx"
      },
      "execution_count": null,
      "outputs": []
    },
    {
      "cell_type": "markdown",
      "source": [
        "# 8. 손실 함수, 옵티마이저\n",
        "- `CrossEntropyLoss()` : softmax + negative log likelihood를 내부적으로 처리\n",
        "- `SGD` : 확률적 경사하강법(learning rate = 0.1)"
      ],
      "metadata": {
        "id": "SoXOXG0CDZVs"
      }
    },
    {
      "cell_type": "code",
      "source": [
        "criterion = nn.CrossEntropyLoss().to('cuda')\n",
        "optimizer = torch.optim.SGD(linear.parameters(),lr=0.1)"
      ],
      "metadata": {
        "id": "yaqhDNFvDrKq"
      },
      "execution_count": null,
      "outputs": []
    },
    {
      "cell_type": "markdown",
      "source": [
        "# 9. 학습 루프\n",
        "- `view(-1,784)` : Linear모델에서 입력이 (28 * 28)이어야 함. X.shape = [100, 1, 28, 28]을 flatten 필요\n"
      ],
      "metadata": {
        "id": "O6BZeI7bD762"
      }
    },
    {
      "cell_type": "code",
      "source": [
        "for epoch in range(training_epochs):\n",
        "  avg_cost = 0\n",
        "  total_batch = len(data_loader)\n",
        "\n",
        "  for X, Y in data_loader:\n",
        "    X = X.view(-1, 28 * 28).to('cuda')\n",
        "    Y = Y.to('cuda')\n",
        "\n",
        "    hypothesis = linear(X)\n",
        "    cost = criterion(hypothesis, Y)\n",
        "\n",
        "    optimizer.zero_grad()\n",
        "    cost.backward()\n",
        "    optimizer.step()\n",
        "\n",
        "    avg_cost += cost / total_batch\n",
        "  print('Epoch : ','%04d' % (epoch + 1), 'Cost = {:.9f}'.format(avg_cost))"
      ],
      "metadata": {
        "colab": {
          "base_uri": "https://localhost:8080/"
        },
        "id": "MEx2LBIQEVsS",
        "outputId": "ef046283-8c1f-4d9d-db6d-1423fdf5f728"
      },
      "execution_count": null,
      "outputs": [
        {
          "output_type": "stream",
          "name": "stdout",
          "text": [
            "Epoch :  0001 Cost = 0.535150588\n",
            "Epoch :  0002 Cost = 0.359577715\n",
            "Epoch :  0003 Cost = 0.331264287\n",
            "Epoch :  0004 Cost = 0.316404670\n",
            "Epoch :  0005 Cost = 0.307106972\n",
            "Epoch :  0006 Cost = 0.300456554\n",
            "Epoch :  0007 Cost = 0.294933438\n",
            "Epoch :  0008 Cost = 0.290956199\n",
            "Epoch :  0009 Cost = 0.287074119\n",
            "Epoch :  0010 Cost = 0.284515619\n",
            "Epoch :  0011 Cost = 0.281914055\n",
            "Epoch :  0012 Cost = 0.279526889\n",
            "Epoch :  0013 Cost = 0.277636588\n",
            "Epoch :  0014 Cost = 0.275874794\n",
            "Epoch :  0015 Cost = 0.274422765\n"
          ]
        }
      ]
    },
    {
      "cell_type": "markdown",
      "source": [
        "# 10. 정확도 테스트\n",
        "- `argmax` :"
      ],
      "metadata": {
        "id": "SJI23lo_GBAM"
      }
    },
    {
      "cell_type": "code",
      "source": [
        "with torch.no_grad():\n",
        "  X_test = mnist_test.test_data.view(-1, 28 * 28).float().to('cuda')\n",
        "  Y_test = mnist_test.test_labels.to('cuda')\n",
        "\n",
        "  prediction = linear(X_test)\n",
        "  correct_prediction = torch.argmax(prediction, 1) == Y_test\n",
        "  accuracy = correct_prediction.float().mean()\n",
        "  print(\"Accuarcy : \" , accuracy.item())"
      ],
      "metadata": {
        "colab": {
          "base_uri": "https://localhost:8080/"
        },
        "id": "ocwrwoAjGHqa",
        "outputId": "ddef999b-a10d-4a18-b7ef-2c9942dd40db"
      },
      "execution_count": null,
      "outputs": [
        {
          "output_type": "stream",
          "name": "stdout",
          "text": [
            "Accuarcy :  0.8883000016212463\n"
          ]
        }
      ]
    },
    {
      "cell_type": "markdown",
      "source": [
        "# 11. 단일 샘플 예측 확인"
      ],
      "metadata": {
        "id": "_n5EDcvXHBGw"
      }
    },
    {
      "cell_type": "code",
      "source": [
        "\n",
        "\n",
        "r = random.randint(0, len(mnist_test) - 1)\n",
        "X_single_data = mnist_test.test_data[r:r+1].view(-1, 28 * 28).float().to('cuda')\n",
        "Y_single_data = mnist_test.test_labels[r:r+1].to('cuda')\n",
        "\n",
        "print(\"Label : \", Y_single_data.item())\n",
        "\n",
        "single_prediction = linear(X_single_data)\n",
        "print(\"Prediction : \", torch.argmax(single_prediction, 1).item())\n",
        "\n",
        "plt.imshow(mnist_test.test_data[r:r+1].view(28, 28), cmap='Greys', interpolation='nearest')\n",
        "plt.show()"
      ],
      "metadata": {
        "colab": {
          "base_uri": "https://localhost:8080/",
          "height": 466
        },
        "id": "qGrqSwJ_HDn0",
        "outputId": "dd40d38f-545b-4a6f-e74a-418dd1568271"
      },
      "execution_count": null,
      "outputs": [
        {
          "output_type": "stream",
          "name": "stdout",
          "text": [
            "Label :  8\n",
            "Prediction :  8\n"
          ]
        },
        {
          "output_type": "display_data",
          "data": {
            "text/plain": [
              "<Figure size 640x480 with 1 Axes>"
            ],
            "image/png": "[encoded data removed]"
          },
          "metadata": {}
        }
      ]
    }
  ]
}