{
  "nbformat": 4,
  "nbformat_minor": 0,
  "metadata": {
    "colab": {
      "provenance": [],
      "gpuType": "T4",
      "authorship_tag": "ABX9TyODQONW7VUvNbU5UEjrTLJr",
      "include_colab_link": true
    },
    "kernelspec": {
      "name": "python3",
      "display_name": "Python 3"
    },
    "language_info": {
      "name": "python"
    },
    "accelerator": "GPU"
  },
  "cells": [
    {
      "cell_type": "markdown",
      "metadata": {
        "id": "view-in-github",
        "colab_type": "text"
      },
      "source": [
        "<a href=\"https://colab.research.google.com/github/2alstj/AI-Pythoch/blob/main/MultiLayer_Perceptron.ipynb\" target=\"_parent\"><img src=\"https://colab.research.google.com/assets/colab-badge.svg\" alt=\"Open In Colab\"/></a>"
      ]
    },
    {
      "cell_type": "code",
      "execution_count": 7,
      "metadata": {
        "colab": {
          "base_uri": "https://localhost:8080/",
          "height": 346
        },
        "id": "UA_uCpCUHgJt",
        "outputId": "f6df300e-d66b-466b-a9a7-0e300688fa89"
      },
      "outputs": [
        {
          "output_type": "stream",
          "name": "stdout",
          "text": [
            "[[ 0.  0.  5. 13.  9.  1.  0.  0.]\n",
            " [ 0.  0. 13. 15. 10. 15.  5.  0.]\n",
            " [ 0.  3. 15.  2.  0. 11.  8.  0.]\n",
            " [ 0.  4. 12.  0.  0.  8.  8.  0.]\n",
            " [ 0.  5.  8.  0.  0.  9.  8.  0.]\n",
            " [ 0.  4. 11.  0.  1. 12.  7.  0.]\n",
            " [ 0.  2. 14.  5. 10. 12.  0.  0.]\n",
            " [ 0.  0.  6. 13. 10.  0.  0.  0.]]\n",
            "\n",
            "Target:  0\n",
            "Number of data: 1797\n"
          ]
        },
        {
          "output_type": "display_data",
          "data": {
            "text/plain": [
              "<Figure size 640x480 with 5 Axes>"
            ],
            "image/png": "[encoded data removed]"
          },
          "metadata": {}
        }
      ],
      "source": [
        "import matplotlib.pyplot as plt\n",
        "from sklearn.datasets import load_digits\n",
        "digits = load_digits()\n",
        "\n",
        "# 1st sample print\n",
        "print(digits.images[0])\n",
        "\n",
        "#1st sample target\n",
        "print('\\nTarget: ', digits.target[0])\n",
        "\n",
        "# # of sample datas\n",
        "print('Number of data: {}'.format(len(digits.images)))\n",
        "\n",
        "# 5 samples viualization\n",
        "images_and_labels = list(zip(digits.images, digits.target))\n",
        "for index, (image, label) in enumerate(images_and_labels[:5]):\n",
        "    plt.subplot(2, 5, index + 1)\n",
        "    plt.axis('off')\n",
        "    plt.imshow(image, cmap=plt.cm.gray_r, interpolation='nearest')\n",
        "    plt.title('sample: %i' %label)"
      ]
    },
    {
      "cell_type": "code",
      "source": [
        "import torch\n",
        "import torch.nn as nn\n",
        "from torch import optim\n",
        "import matplotlib.pyplot as plt\n",
        "from sklearn.datasets import load_digits\n",
        "digits = load_digits()\n",
        "\n",
        "# X and Y defination\n",
        "X = digits.data\n",
        "Y = digits.target\n",
        "\n",
        "#model defination\n",
        "model = nn.Sequential(  #보통 점진적으로 절반씩 줄여나가는 것이 일반적\n",
        "    nn.Linear(64, 32),\n",
        "    nn.ReLU(),\n",
        "    nn.Linear(32, 16),\n",
        "    nn.ReLU(),\n",
        "    nn.Linear(16, 10)\n",
        ")\n",
        "\n",
        "# X and Y (Change to Tensor)\n",
        "X = torch.tensor(X, dtype = torch.float32)\n",
        "Y = torch.tensor(Y, dtype = torch.int64)\n",
        "\n",
        "loss_fn = nn.CrossEntropyLoss()\n",
        "optimizer = optim.Adam(model.parameters())\n",
        "\n",
        "losses = []\n",
        "\n",
        "epochs = 100\n",
        "\n",
        "for epoch in range(epochs + 1):\n",
        "  predicted = model(X)\n",
        "  cost = loss_fn(predicted, Y)\n",
        "\n",
        "  optimizer.zero_grad()\n",
        "  cost.backward()\n",
        "  optimizer.step()\n",
        "\n",
        "  losses.append(cost.item())\n",
        "\n",
        "  if epoch % 10 == 0:\n",
        "    print('Epoch {:4d}/{} Cost: {:.6f}'.format(\n",
        "        epoch, epochs, cost.item()\n",
        "    ))\n",
        "\n",
        "print(' ')\n",
        "plt.plot(losses)"
      ],
      "metadata": {
        "colab": {
          "base_uri": "https://localhost:8080/",
          "height": 669
        },
        "id": "8bTH_74pJuG3",
        "outputId": "4fce53a3-00bd-45a8-ead5-2cb8cb1be2e4"
      },
      "execution_count": 3,
      "outputs": [
        {
          "output_type": "stream",
          "name": "stdout",
          "text": [
            "Epoch    0/100 Cost: 2.499899\n",
            "Epoch   10/100 Cost: 2.011244\n",
            "Epoch   20/100 Cost: 1.718011\n",
            "Epoch   30/100 Cost: 1.422025\n",
            "Epoch   40/100 Cost: 1.112718\n",
            "Epoch   50/100 Cost: 0.830773\n",
            "Epoch   60/100 Cost: 0.604121\n",
            "Epoch   70/100 Cost: 0.441749\n",
            "Epoch   80/100 Cost: 0.337511\n",
            "Epoch   90/100 Cost: 0.270486\n",
            "Epoch  100/100 Cost: 0.225077\n",
            " \n"
          ]
        },
        {
          "output_type": "execute_result",
          "data": {
            "text/plain": [
              "[<matplotlib.lines.Line2D at 0x7a9ae1f88950>]"
            ]
          },
          "metadata": {},
          "execution_count": 3
        },
        {
          "output_type": "display_data",
          "data": {
            "text/plain": [
              "<Figure size 640x480 with 1 Axes>"
            ],
            "image/png": "[encoded data removed]"
          },
          "metadata": {}
        }
      ]
    }
  ]
}