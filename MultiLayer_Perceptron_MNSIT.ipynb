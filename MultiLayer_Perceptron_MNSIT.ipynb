{
  "nbformat": 4,
  "nbformat_minor": 0,
  "metadata": {
    "colab": {
      "provenance": [],
      "gpuType": "T4",
      "authorship_tag": "ABX9TyMpNPtrWkI2jC2QyMPGuCGV",
      "include_colab_link": true
    },
    "kernelspec": {
      "name": "python3",
      "display_name": "Python 3"
    },
    "language_info": {
      "name": "python"
    },
    "accelerator": "GPU"
  },
  "cells": [
    {
      "cell_type": "markdown",
      "metadata": {
        "id": "view-in-github",
        "colab_type": "text"
      },
      "source": [
        "<a href=\"https://colab.research.google.com/github/2alstj/AI-Pythoch/blob/main/MultiLayer_Perceptron_MNSIT.ipynb\" target=\"_parent\"><img src=\"https://colab.research.google.com/assets/colab-badge.svg\" alt=\"Open In Colab\"/></a>"
      ]
    },
    {
      "cell_type": "code",
      "execution_count": 18,
      "metadata": {
        "colab": {
          "base_uri": "https://localhost:8080/",
          "height": 540
        },
        "id": "h4E4LetFP8dV",
        "outputId": "1cb8a96c-f8a5-4e3a-9d86-2dd9a8f71be4"
      },
      "outputs": [
        {
          "output_type": "stream",
          "name": "stdout",
          "text": [
            "Epoch    1/3 Cost : 0.094515\n",
            "Epoch    2/3 Cost : 0.058491\n",
            "Epoch    3/3 Cost : 0.438809\n",
            "Accuracy : 9570/10000 (96%)\n",
            "Result : 2\n",
            "Correct Answer is 2\n"
          ]
        },
        {
          "output_type": "display_data",
          "data": {
            "text/plain": [
              "<Figure size 640x480 with 1 Axes>"
            ],
            "image/png": "[encoded data removed]"
          },
          "metadata": {}
        }
      ],
      "source": [
        "# Data Load\n",
        "import numpy as np\n",
        "import matplotlib.pyplot as plt\n",
        "from sklearn.datasets import fetch_openml\n",
        "import torch\n",
        "from torch.utils.data import TensorDataset, DataLoader\n",
        "from sklearn.model_selection import train_test_split\n",
        "from torch import nn\n",
        "from torch import optim\n",
        "\n",
        "mnist = fetch_openml('mnist_784', version=1, cache=True, as_frame=False)\n",
        "\n",
        "X = mnist.data / 255 # 0 ~ 255 -> 0 ~ 1 : Increased learning efficiency\n",
        "y = mnist.target.astype(np.int8)\n",
        "\n",
        "# Data Classification\n",
        "X_train, X_test, y_train, y_test = train_test_split(X, y, test_size=1/7, random_state=0)\n",
        "\n",
        "# Conversion Tensor\n",
        "X_train = torch.Tensor(X_train)\n",
        "X_test = torch.Tensor(X_test)\n",
        "y_train = torch.LongTensor(y_train)\n",
        "y_test = torch.LongTensor(y_test)\n",
        "\n",
        "# TensorDataSet\n",
        "ds_train = TensorDataset(X_train, y_train)\n",
        "ds_test = TensorDataset(X_test, y_test)\n",
        "\n",
        "# DataLoader\n",
        "loader_train = DataLoader(ds_train, batch_size = 64, shuffle = True)\n",
        "loader_test = DataLoader(ds_test, batch_size = 64, shuffle = False)\n",
        "\n",
        "#model defination\n",
        "model = nn.Sequential(\n",
        "  nn.Linear(28 * 28 * 1, 100),\n",
        "  nn.ReLU(),\n",
        "  nn.Linear(100, 100),\n",
        "  nn.ReLU(),\n",
        "  nn.Linear(100, 10)\n",
        ")\n",
        "\n",
        "# Cost function\n",
        "loss_fn = nn.CrossEntropyLoss()\n",
        "\n",
        "# Select Optimizer\n",
        "optimizer = optim.Adam(model.parameters(), lr = 0.01)\n",
        "\n",
        "# epoch\n",
        "epochs = 3\n",
        "\n",
        "for epoch in range(epochs):\n",
        "  for data, targets in loader_train:\n",
        "    y_pred = model(data)\n",
        "    loss = loss_fn(y_pred, targets)\n",
        "\n",
        "    optimizer.zero_grad()\n",
        "    loss.backward()\n",
        "    optimizer.step()\n",
        "\n",
        "  print('Epoch {:4d}/{} Cost : {:.6f}'.format(epoch + 1, epochs, loss.item()))\n",
        "\n",
        "#모델을 추론모드로 전환\n",
        "model.eval()\n",
        "correct = 0\n",
        "\n",
        "#minibatch를 하나씩 꺼내 추론을 수행\n",
        "with torch.no_grad():\n",
        "  for data, targets in loader_test:\n",
        "    outputs = model(data)\n",
        "    _, predicted = torch.max(outputs.data, 1)\n",
        "    correct += predicted.eq(targets.data.view_as(predicted)).sum()\n",
        "\n",
        "data_num = len(loader_test.dataset)\n",
        "print('Accuracy : {}/{} ({:.0f}%)'.format(correct, data_num, correct / data_num * 100))\n",
        "\n",
        "index = 2018\n",
        "\n",
        "model.eval()\n",
        "data = X_test[index]\n",
        "output = model(data)\n",
        "_,predicted = torch.max(output.data, 0)\n",
        "\n",
        "print('Result : {}'.format(predicted))\n",
        "\n",
        "X_test_show = X_test[index].numpy()\n",
        "plt.imshow(X_test_show.reshape(28, 28), cmap = 'gray')\n",
        "print('Correct Answer is {:.0f}'.format(y_test[index]))"
      ]
    }
  ]
}